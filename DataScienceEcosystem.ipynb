{
 "cells": [
  {
   "cell_type": "markdown",
   "id": "714c95e9",
   "metadata": {},
   "source": [
    "*Data Science Tools and Ecosystem*"
   ]
  },
  {
   "cell_type": "markdown",
   "id": "c16b3263",
   "metadata": {},
   "source": [
    "In this notebook Data Science Tools and Ecosystem are summarized."
   ]
  },
  {
   "cell_type": "markdown",
   "id": "f6261233",
   "metadata": {},
   "source": [
    "Some of the popular languages data scientists use are:\n",
    "    Python\n",
    "    R\n",
    "    SQL"
   ]
  },
  {
   "cell_type": "markdown",
   "id": "d90686a5",
   "metadata": {},
   "source": [
    "Some of the commonly used libraries used by Data Scientists are:\n",
    "    ggplot\n",
    "    matplotlib\n",
    "    pandas"
   ]
  },
  {
   "cell_type": "markdown",
   "id": "0d039164",
   "metadata": {},
   "source": [
    "|Data Science Tools|\n",
    "|:----------------:|\n",
    "|Github |\n",
    "|JupyterNotebook|\n",
    "|Anaconda|\n",
    "    "
   ]
  },
  {
   "cell_type": "markdown",
   "id": "f264edc2",
   "metadata": {},
   "source": [
    "***Below are examples of evaluating arithmetic expressions in python***"
   ]
  },
  {
   "cell_type": "markdown",
   "id": "a3fe8cb9",
   "metadata": {},
   "source": [
    "This is a simple arithmetic expression to multiply then add integers"
   ]
  },
  {
   "cell_type": "code",
   "execution_count": 4,
   "id": "d97499e4",
   "metadata": {},
   "outputs": [
    {
     "data": {
      "text/plain": [
       "17"
      ]
     },
     "execution_count": 4,
     "metadata": {},
     "output_type": "execute_result"
    }
   ],
   "source": [
    "(3*4)+5"
   ]
  },
  {
   "cell_type": "markdown",
   "id": "7f621b24",
   "metadata": {},
   "source": [
    "This will convert 200 minutes to hours by dividing by 60"
   ]
  },
  {
   "cell_type": "code",
   "execution_count": 6,
   "id": "cf11c38a",
   "metadata": {},
   "outputs": [
    {
     "data": {
      "text/plain": [
       "3.3333333333333335"
      ]
     },
     "execution_count": 6,
     "metadata": {},
     "output_type": "execute_result"
    }
   ],
   "source": [
    "200/60"
   ]
  },
  {
   "cell_type": "markdown",
   "id": "c90de679",
   "metadata": {},
   "source": [
    "***Objectives:***"
   ]
  },
  {
   "cell_type": "markdown",
   "id": "77510a7a",
   "metadata": {},
   "source": [
    "* Which tools are most used by data scientists including languages like Python, R and SQL \n",
    "* Systems and applications to use on my own computer and gained access by registering for them like RStudio, Anaconda and Github \n",
    "* How to use Jupyter for notes"
   ]
  },
  {
   "cell_type": "markdown",
   "id": "622fc0e8",
   "metadata": {},
   "source": [
    "**Author** "
   ]
  },
  {
   "cell_type": "markdown",
   "id": "268d17dc",
   "metadata": {},
   "source": [
    "Matt McBride"
   ]
  },
  {
   "cell_type": "code",
   "execution_count": null,
   "id": "94155a13",
   "metadata": {},
   "outputs": [],
   "source": []
  }
 ],
 "metadata": {
  "kernelspec": {
   "display_name": "Python 3 (ipykernel)",
   "language": "python",
   "name": "python3"
  },
  "language_info": {
   "codemirror_mode": {
    "name": "ipython",
    "version": 3
   },
   "file_extension": ".py",
   "mimetype": "text/x-python",
   "name": "python",
   "nbconvert_exporter": "python",
   "pygments_lexer": "ipython3",
   "version": "3.11.4"
  }
 },
 "nbformat": 4,
 "nbformat_minor": 5
}
